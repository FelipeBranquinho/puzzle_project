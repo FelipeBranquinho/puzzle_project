{
 "cells": [
  {
   "cell_type": "code",
   "execution_count": 1,
   "metadata": {},
   "outputs": [],
   "source": [
    "# Importing used libraries\n",
    "import pandas as pd\n",
    "import numpy as np\n",
    "\n",
    "import matplotlib.pyplot as plt\n",
    "import seaborn as sns\n",
    "%matplotlib inline\n",
    "\n",
    "from sklearn.ensemble import RandomForestClassifier\n",
    "from sklearn.preprocessing import RobustScaler\n",
    "from sklearn.pipeline import make_pipeline\n",
    "\n",
    "from sklearn.metrics import confusion_matrix, roc_auc_score, accuracy_score, roc_curve, precision_recall_curve, f1_score\n",
    "from sklearn.model_selection import train_test_split, cross_val_score, cross_val_predict, GridSearchCV"
   ]
  },
  {
   "cell_type": "code",
   "execution_count": 2,
   "metadata": {},
   "outputs": [],
   "source": [
    "import warnings\n",
    "warnings.simplefilter(action='ignore', category=FutureWarning)"
   ]
  },
  {
   "cell_type": "markdown",
   "metadata": {},
   "source": [
    "# Training model"
   ]
  },
  {
   "cell_type": "code",
   "execution_count": 3,
   "metadata": {},
   "outputs": [],
   "source": [
    "# Importing datasets to pandas dataframe\n",
    "train = pd.read_csv('puzzle_train_dataset.csv')"
   ]
  },
  {
   "cell_type": "code",
   "execution_count": 4,
   "metadata": {},
   "outputs": [
    {
     "name": "stdout",
     "output_type": "stream",
     "text": [
      "\u001b[1m\u001b[94mData types:\n",
      "-----------\n",
      "\u001b[30mids                    object\n",
      "default                object\n",
      "score_1                object\n",
      "score_2                object\n",
      "score_3               float64\n",
      "score_4               float64\n",
      "score_5               float64\n",
      "score_6               float64\n",
      "risk_rate             float64\n",
      "amount_borrowed       float64\n",
      "borrowed_in_months    float64\n",
      "credit_limit          float64\n",
      "reason                 object\n",
      "income                float64\n",
      "sign                   object\n",
      "gender                 object\n",
      "facebook_profile       object\n",
      "last_payment           object\n",
      "end_last_loan          object\n",
      "state                  object\n",
      "zip                    object\n",
      "channel                object\n",
      "job_name               object\n",
      "real_state             object\n",
      "ok_since              float64\n",
      "n_bankruptcies        float64\n",
      "n_defaulted_loans     float64\n",
      "n_accounts            float64\n",
      "n_issues              float64\n",
      "dtype: object\n",
      "\n",
      "\u001b[1m\u001b[94mSum of null values in each feature:\n",
      "-----------------------------------\n",
      "\u001b[30mids                       0\n",
      "default                4626\n",
      "score_1                 785\n",
      "score_2                 785\n",
      "score_3                 785\n",
      "score_4                   0\n",
      "score_5                   0\n",
      "score_6                   0\n",
      "risk_rate               785\n",
      "amount_borrowed         785\n",
      "borrowed_in_months      785\n",
      "credit_limit          19753\n",
      "reason                  791\n",
      "income                  785\n",
      "sign                  20767\n",
      "gender                 7186\n",
      "facebook_profile       6407\n",
      "last_payment            862\n",
      "end_last_loan           788\n",
      "state                   785\n",
      "zip                     785\n",
      "channel                 785\n",
      "job_name               4795\n",
      "real_state              785\n",
      "ok_since              38038\n",
      "n_bankruptcies          987\n",
      "n_defaulted_loans       803\n",
      "n_accounts              785\n",
      "n_issues              16451\n",
      "dtype: int64\n"
     ]
    },
    {
     "data": {
      "text/plain": [
       "<matplotlib.axes._subplots.AxesSubplot at 0x193e3297898>"
      ]
     },
     "execution_count": 4,
     "metadata": {},
     "output_type": "execute_result"
    },
    {
     "data": {
      "image/png": "[encoded data removed]",
      "text/plain": [
       "<Figure size 432x288 with 1 Axes>"
      ]
     },
     "metadata": {
      "needs_background": "light"
     },
     "output_type": "display_data"
    }
   ],
   "source": [
    "# Check both the datatypes and if there is missing values for the train dataset\n",
    "print(f\"\\033[1m\\033[94mData types:\\n{11 * '-'}\")\n",
    "print(f\"\\033[30m{train.dtypes}\\n\")\n",
    "print(f\"\\033[1m\\033[94mSum of null values in each feature:\\n{35 * '-'}\")\n",
    "print(f\"\\033[30m{train.isnull().sum()}\")\n",
    "train.head()\n",
    "sns.heatmap(train.isnull(),yticklabels=False,cbar=False,cmap='viridis')"
   ]
  },
  {
   "cell_type": "code",
   "execution_count": 5,
   "metadata": {},
   "outputs": [],
   "source": [
    "# Removing missing default values\n",
    "train.dropna(subset=['default'], inplace=True)"
   ]
  },
  {
   "cell_type": "code",
   "execution_count": 6,
   "metadata": {},
   "outputs": [],
   "source": [
    "# n_issues, ok_since, sign and credit_limit too many info missing\n",
    "# facebook_profile, zip and channel don't think it's that useful\n",
    "train.drop(columns=['facebook_profile','ok_since','credit_limit','sign','n_issues','zip','channel'], inplace=True, axis=1)"
   ]
  },
  {
   "cell_type": "code",
   "execution_count": 7,
   "metadata": {},
   "outputs": [
    {
     "name": "stdout",
     "output_type": "stream",
     "text": [
      "Positive examples = 9510\n",
      "Negative examples = 50456\n",
      "Proportion of positive to negative examples = 18.85%\n"
     ]
    },
    {
     "data": {
      "image/png": "[encoded data removed]",
      "text/plain": [
       "<Figure size 576x432 with 1 Axes>"
      ]
     },
     "metadata": {
      "needs_background": "light"
     },
     "output_type": "display_data"
    }
   ],
   "source": [
    "# Get number of positve and negative examples\n",
    "pos = train[train[\"default\"] == 1].shape[0]\n",
    "neg = train[train[\"default\"] == 0].shape[0]\n",
    "print(f\"Positive examples = {pos}\")\n",
    "print(f\"Negative examples = {neg}\")\n",
    "print(f\"Proportion of positive to negative examples = {(pos / neg) * 100:.2f}%\")\n",
    "plt.figure(figsize=(8, 6))\n",
    "sns.countplot(train[\"default\"])\n",
    "plt.xticks((0, 1), [\"Paid fully\", \"Not paid fully\"])\n",
    "plt.xlabel(\"\")\n",
    "plt.ylabel(\"Count\")\n",
    "plt.title(\"Class counts\", y=1, fontdict={\"fontsize\": 20});"
   ]
  },
  {
   "cell_type": "code",
   "execution_count": 8,
   "metadata": {},
   "outputs": [
    {
     "name": "stdout",
     "output_type": "stream",
     "text": [
      "True    77\n",
      "Name: default, dtype: int64\n",
      "False    3\n",
      "Name: default, dtype: int64\n"
     ]
    }
   ],
   "source": [
    "# Payment not paid when last payment is missing\n",
    "print(train[train['last_payment'].isna()]['default'].value_counts())\n",
    "\n",
    "# Payment fully paid when end last loan missing\n",
    "print(train[train['end_last_loan'].isna()]['default'].value_counts())"
   ]
  },
  {
   "cell_type": "code",
   "execution_count": 9,
   "metadata": {},
   "outputs": [],
   "source": [
    "# Removing missing last_payment and end_last_loan values\n",
    "# By the analysis before, if end_last_loan is nan the default is false\n",
    "# if last_payment is nan the default is true\n",
    "# Priority of end_last_loan over last_payment\n",
    "train.dropna(subset=['last_payment','end_last_loan'], inplace=True)"
   ]
  },
  {
   "cell_type": "code",
   "execution_count": 10,
   "metadata": {},
   "outputs": [],
   "source": [
    "# Changing object types to categorical numbers\n",
    "def cat_code_str(df,columns):\n",
    "    for col in columns:\n",
    "        df[col] = df[col].astype('category')\n",
    "        df[col+'_cat'] = df[col].cat.codes\n",
    "    df.drop(columns=columns, inplace=True, axis=1)\n",
    "    \n",
    "cat_code_str(train,['score_1','score_2','gender','state','job_name','real_state','reason'])"
   ]
  },
  {
   "cell_type": "code",
   "execution_count": 11,
   "metadata": {},
   "outputs": [],
   "source": [
    "# Filling n_bankruptcies and n_default_loans missing values\n",
    "train['n_bankruptcies'].fillna(value=train.n_bankruptcies.mean(), inplace=True)\n",
    "train['n_defaulted_loans'].fillna(value=train.n_defaulted_loans.mean(), inplace=True)"
   ]
  },
  {
   "cell_type": "code",
   "execution_count": 12,
   "metadata": {},
   "outputs": [],
   "source": [
    "def treat_datetime(df,columns):\n",
    "    for col in columns:\n",
    "        df[col] = df[col].astype('datetime64')\n",
    "        min_col, max_col = df[col].min(), df[col].max()\n",
    "        df[col+'_asdt64'] = (df[col] - min_col)/(max_col - min_col)\n",
    "    df.drop(columns=columns, inplace=True, axis=1)\n",
    "    \n",
    "treat_datetime(train,['last_payment','end_last_loan'])"
   ]
  },
  {
   "cell_type": "code",
   "execution_count": 13,
   "metadata": {},
   "outputs": [],
   "source": [
    "X = train.drop(columns=['ids','default'], axis=1)\n",
    "y = train['default'].astype(bool)\n",
    "\n",
    "X_train, X_test, y_train, y_test = train_test_split(X, y, test_size=0.2, shuffle=True, random_state=123, stratify=y)\n",
    "train.drop('ids', axis=1, inplace=True)"
   ]
  },
  {
   "cell_type": "code",
   "execution_count": 14,
   "metadata": {},
   "outputs": [
    {
     "data": {
      "image/png": "[encoded data removed]",
      "text/plain": [
       "<Figure size 864x432 with 1 Axes>"
      ]
     },
     "metadata": {
      "needs_background": "light"
     },
     "output_type": "display_data"
    }
   ],
   "source": [
    "rfc = RandomForestClassifier(n_estimators=100, max_features=0.25, criterion='entropy', class_weight='balanced')\n",
    "rfc.fit(RobustScaler().fit_transform(X_train), y_train)\n",
    "\n",
    "# Plot features importance\n",
    "importances = rfc.feature_importances_\n",
    "indices = np.argsort(rfc.feature_importances_)[::-1]\n",
    "plt.figure(figsize=(12, 6))\n",
    "plt.bar(range(1, 21), importances[indices], align=\"center\")\n",
    "plt.xticks(range(1, 21),\n",
    "           train.columns[train.columns != 'default'][indices],\n",
    "           rotation=90)\n",
    "plt.title(\"Feature Importance\", {\"fontsize\": 16});"
   ]
  },
  {
   "cell_type": "code",
   "execution_count": 15,
   "metadata": {},
   "outputs": [
    {
     "name": "stderr",
     "output_type": "stream",
     "text": [
      "c:\\users\\felip\\appdata\\local\\programs\\python\\python37\\lib\\site-packages\\pandas\\core\\frame.py:3697: SettingWithCopyWarning: \n",
      "A value is trying to be set on a copy of a slice from a DataFrame\n",
      "\n",
      "See the caveats in the documentation: http://pandas.pydata.org/pandas-docs/stable/indexing.html#indexing-view-versus-copy\n",
      "  errors=errors)\n"
     ]
    }
   ],
   "source": [
    "# Drop features from score_3 to not overfit\n",
    "X_train.drop(columns=['score_2_cat','score_1_cat','gender_cat','real_state_cat',\n",
    "                     'n_bankruptcies','n_defaulted_loans'], axis=1, inplace=True)\n",
    "X_test.drop(columns=['score_2_cat','score_1_cat','gender_cat','real_state_cat',\n",
    "                     'n_bankruptcies','n_defaulted_loans'], axis=1, inplace=True)"
   ]
  },
  {
   "cell_type": "code",
   "execution_count": 16,
   "metadata": {},
   "outputs": [],
   "source": [
    "# Standardize the data\n",
    "std = RobustScaler()\n",
    "std.fit(X_train)\n",
    "X_std_train = std.transform(X_train)\n",
    "X_std_test = std.transform(X_test)"
   ]
  },
  {
   "cell_type": "markdown",
   "metadata": {},
   "source": [
    "## Searching Random Forest best estimators. Running may take a while*"
   ]
  },
  {
   "cell_type": "code",
   "execution_count": 17,
   "metadata": {},
   "outputs": [],
   "source": [
    "param_grid = {\n",
    "    'n_estimators': [100,200,300],\n",
    "    'max_depth': [5,6,7,8,9,10],\n",
    "    'max_features': [0.25,0.5,0.75]\n",
    "}"
   ]
  },
  {
   "cell_type": "code",
   "execution_count": 18,
   "metadata": {},
   "outputs": [],
   "source": [
    "grid = GridSearchCV(RandomForestClassifier(), param_grid, verbose=3)"
   ]
  },
  {
   "cell_type": "code",
   "execution_count": 19,
   "metadata": {},
   "outputs": [
    {
     "name": "stderr",
     "output_type": "stream",
     "text": [
      "[Parallel(n_jobs=1)]: Using backend SequentialBackend with 1 concurrent workers.\n"
     ]
    },
    {
     "name": "stdout",
     "output_type": "stream",
     "text": [
      "Fitting 3 folds for each of 54 candidates, totalling 162 fits\n",
      "[CV] max_depth=5, max_features=0.25, n_estimators=100 ................\n",
      "[CV]  max_depth=5, max_features=0.25, n_estimators=100, score=0.8486537257357546, total=   3.2s\n",
      "[CV] max_depth=5, max_features=0.25, n_estimators=100 ................\n"
     ]
    },
    {
     "name": "stderr",
     "output_type": "stream",
     "text": [
      "[Parallel(n_jobs=1)]: Done   1 out of   1 | elapsed:    3.4s remaining:    0.0s\n"
     ]
    },
    {
     "name": "stdout",
     "output_type": "stream",
     "text": [
      "[CV]  max_depth=5, max_features=0.25, n_estimators=100, score=0.8597282234329012, total=   3.3s\n",
      "[CV] max_depth=5, max_features=0.25, n_estimators=100 ................\n"
     ]
    },
    {
     "name": "stderr",
     "output_type": "stream",
     "text": [
      "[Parallel(n_jobs=1)]: Done   2 out of   2 | elapsed:    7.1s remaining:    0.0s\n"
     ]
    },
    {
     "name": "stdout",
     "output_type": "stream",
     "text": [
      "[CV]  max_depth=5, max_features=0.25, n_estimators=100, score=0.8555325944016532, total=   3.4s\n",
      "[CV] max_depth=5, max_features=0.25, n_estimators=200 ................\n",
      "[CV]  max_depth=5, max_features=0.25, n_estimators=200, score=0.8546649968691297, total=   6.3s\n",
      "[CV] max_depth=5, max_features=0.25, n_estimators=200 ................\n",
      "[CV]  max_depth=5, max_features=0.25, n_estimators=200, score=0.8562840503475484, total=   6.2s\n",
      "[CV] max_depth=5, max_features=0.25, n_estimators=200 ................\n",
      "[CV]  max_depth=5, max_features=0.25, n_estimators=200, score=0.8576617195816896, total=   6.1s\n",
      "[CV] max_depth=5, max_features=0.25, n_estimators=300 ................\n",
      "[CV]  max_depth=5, max_features=0.25, n_estimators=300, score=0.8566061365059486, total=   9.1s\n",
      "[CV] max_depth=5, max_features=0.25, n_estimators=300 ................\n",
      "[CV]  max_depth=5, max_features=0.25, n_estimators=300, score=0.8565971569916714, total=   9.7s\n",
      "[CV] max_depth=5, max_features=0.25, n_estimators=300 ................\n",
      "[CV]  max_depth=5, max_features=0.25, n_estimators=300, score=0.8570981276222681, total=   9.6s\n",
      "[CV] max_depth=5, max_features=0.5, n_estimators=100 .................\n",
      "[CV]  max_depth=5, max_features=0.5, n_estimators=100, score=0.9080150281778334, total=   5.9s\n",
      "[CV] max_depth=5, max_features=0.5, n_estimators=100 .................\n",
      "[CV]  max_depth=5, max_features=0.5, n_estimators=100, score=0.9087607239025612, total=   6.0s\n",
      "[CV] max_depth=5, max_features=0.5, n_estimators=100 .................\n",
      "[CV]  max_depth=5, max_features=0.5, n_estimators=100, score=0.9085102385872629, total=   6.6s\n",
      "[CV] max_depth=5, max_features=0.5, n_estimators=200 .................\n",
      "[CV]  max_depth=5, max_features=0.5, n_estimators=200, score=0.9078271759549155, total=  12.3s\n",
      "[CV] max_depth=5, max_features=0.5, n_estimators=200 .................\n",
      "[CV]  max_depth=5, max_features=0.5, n_estimators=200, score=0.9098252864925793, total=  11.6s\n",
      "[CV] max_depth=5, max_features=0.5, n_estimators=200 .................\n",
      "[CV]  max_depth=5, max_features=0.5, n_estimators=200, score=0.9091364518755088, total=  11.6s\n",
      "[CV] max_depth=5, max_features=0.5, n_estimators=300 .................\n",
      "[CV]  max_depth=5, max_features=0.5, n_estimators=300, score=0.9079524107701941, total=  17.3s\n",
      "[CV] max_depth=5, max_features=0.5, n_estimators=300 .................\n",
      "[CV]  max_depth=5, max_features=0.5, n_estimators=300, score=0.9095121798484563, total=  17.4s\n",
      "[CV] max_depth=5, max_features=0.5, n_estimators=300 .................\n",
      "[CV]  max_depth=5, max_features=0.5, n_estimators=300, score=0.909574801177281, total=  17.4s\n",
      "[CV] max_depth=5, max_features=0.75, n_estimators=100 ................\n",
      "[CV]  max_depth=5, max_features=0.75, n_estimators=100, score=0.9079524107701941, total=   8.0s\n",
      "[CV] max_depth=5, max_features=0.75, n_estimators=100 ................\n",
      "[CV]  max_depth=5, max_features=0.75, n_estimators=100, score=0.9103888784520008, total=   8.0s\n",
      "[CV] max_depth=5, max_features=0.75, n_estimators=100 ................\n",
      "[CV]  max_depth=5, max_features=0.75, n_estimators=100, score=0.9094495585196318, total=   8.1s\n",
      "[CV] max_depth=5, max_features=0.75, n_estimators=200 ................\n",
      "[CV]  max_depth=5, max_features=0.75, n_estimators=200, score=0.9080150281778334, total=  16.0s\n",
      "[CV] max_depth=5, max_features=0.75, n_estimators=200 ................\n",
      "[CV]  max_depth=5, max_features=0.75, n_estimators=200, score=0.9098879078214039, total=  16.2s\n",
      "[CV] max_depth=5, max_features=0.75, n_estimators=200 ................\n",
      "[CV]  max_depth=5, max_features=0.75, n_estimators=200, score=0.9093869371908072, total=  16.0s\n",
      "[CV] max_depth=5, max_features=0.75, n_estimators=300 ................\n",
      "[CV]  max_depth=5, max_features=0.75, n_estimators=300, score=0.9080150281778334, total=  24.1s\n",
      "[CV] max_depth=5, max_features=0.75, n_estimators=300 ................\n",
      "[CV]  max_depth=5, max_features=0.75, n_estimators=300, score=0.9095121798484563, total=  24.2s\n",
      "[CV] max_depth=5, max_features=0.75, n_estimators=300 ................\n",
      "[CV]  max_depth=5, max_features=0.75, n_estimators=300, score=0.9093869371908072, total=  25.6s\n",
      "[CV] max_depth=6, max_features=0.25, n_estimators=100 ................\n",
      "[CV]  max_depth=6, max_features=0.25, n_estimators=100, score=0.8695679398872886, total=   3.2s\n",
      "[CV] max_depth=6, max_features=0.25, n_estimators=100 ................\n",
      "[CV]  max_depth=6, max_features=0.25, n_estimators=100, score=0.8701233640177845, total=   3.4s\n",
      "[CV] max_depth=6, max_features=0.25, n_estimators=100 ................\n",
      "[CV]  max_depth=6, max_features=0.25, n_estimators=100, score=0.8676811321936252, total=   3.5s\n",
      "[CV] max_depth=6, max_features=0.25, n_estimators=200 ................\n",
      "[CV]  max_depth=6, max_features=0.25, n_estimators=200, score=0.8755165936130245, total=   6.6s\n",
      "[CV] max_depth=6, max_features=0.25, n_estimators=200 ................\n",
      "[CV]  max_depth=6, max_features=0.25, n_estimators=200, score=0.8678063748512743, total=   7.7s\n",
      "[CV] max_depth=6, max_features=0.25, n_estimators=200 ................\n",
      "[CV]  max_depth=6, max_features=0.25, n_estimators=200, score=0.8711879266078026, total=   7.5s\n",
      "[CV] max_depth=6, max_features=0.25, n_estimators=300 ................\n",
      "[CV]  max_depth=6, max_features=0.25, n_estimators=300, score=0.8765810895428929, total=  11.0s\n",
      "[CV] max_depth=6, max_features=0.25, n_estimators=300 ................\n",
      "[CV]  max_depth=6, max_features=0.25, n_estimators=300, score=0.8668670549189054, total=  10.3s\n",
      "[CV] max_depth=6, max_features=0.25, n_estimators=300 ................\n",
      "[CV]  max_depth=6, max_features=0.25, n_estimators=300, score=0.8655520070135888, total=  10.4s\n",
      "[CV] max_depth=6, max_features=0.5, n_estimators=100 .................\n",
      "[CV]  max_depth=6, max_features=0.5, n_estimators=100, score=0.9079524107701941, total=   7.2s\n",
      "[CV] max_depth=6, max_features=0.5, n_estimators=100 .................\n",
      "[CV]  max_depth=6, max_features=0.5, n_estimators=100, score=0.909574801177281, total=   7.2s\n",
      "[CV] max_depth=6, max_features=0.5, n_estimators=100 .................\n",
      "[CV]  max_depth=6, max_features=0.5, n_estimators=100, score=0.9093869371908072, total=   7.2s\n",
      "[CV] max_depth=6, max_features=0.5, n_estimators=200 .................\n",
      "[CV]  max_depth=6, max_features=0.5, n_estimators=200, score=0.9079524107701941, total=  14.3s\n",
      "[CV] max_depth=6, max_features=0.5, n_estimators=200 .................\n",
      "[CV]  max_depth=6, max_features=0.5, n_estimators=200, score=0.9096374225061056, total=  14.3s\n",
      "[CV] max_depth=6, max_features=0.5, n_estimators=200 .................\n",
      "[CV]  max_depth=6, max_features=0.5, n_estimators=200, score=0.9094495585196318, total=  14.5s\n",
      "[CV] max_depth=6, max_features=0.5, n_estimators=300 .................\n",
      "[CV]  max_depth=6, max_features=0.5, n_estimators=300, score=0.9078897933625548, total=  21.7s\n",
      "[CV] max_depth=6, max_features=0.5, n_estimators=300 .................\n",
      "[CV]  max_depth=6, max_features=0.5, n_estimators=300, score=0.909574801177281, total=  21.5s\n",
      "[CV] max_depth=6, max_features=0.5, n_estimators=300 .................\n",
      "[CV]  max_depth=6, max_features=0.5, n_estimators=300, score=0.9093869371908072, total=  21.7s\n",
      "[CV] max_depth=6, max_features=0.75, n_estimators=100 ................\n",
      "[CV]  max_depth=6, max_features=0.75, n_estimators=100, score=0.9098309329993738, total=  10.0s\n",
      "[CV] max_depth=6, max_features=0.75, n_estimators=100 ................\n",
      "[CV]  max_depth=6, max_features=0.75, n_estimators=100, score=0.9112029557267205, total=  10.1s\n",
      "[CV] max_depth=6, max_features=0.75, n_estimators=100 ................\n",
      "[CV]  max_depth=6, max_features=0.75, n_estimators=100, score=0.9107646064249484, total=  10.0s\n",
      "[CV] max_depth=6, max_features=0.75, n_estimators=200 ................\n",
      "[CV]  max_depth=6, max_features=0.75, n_estimators=200, score=0.9098309329993738, total=  20.3s\n",
      "[CV] max_depth=6, max_features=0.75, n_estimators=200 ................\n",
      "[CV]  max_depth=6, max_features=0.75, n_estimators=200, score=0.9114534410420189, total=  20.1s\n",
      "[CV] max_depth=6, max_features=0.75, n_estimators=200 ................\n",
      "[CV]  max_depth=6, max_features=0.75, n_estimators=200, score=0.9106393637672991, total=  23.0s\n",
      "[CV] max_depth=6, max_features=0.75, n_estimators=300 ................\n",
      "[CV]  max_depth=6, max_features=0.75, n_estimators=300, score=0.9097683155917345, total=  33.9s\n",
      "[CV] max_depth=6, max_features=0.75, n_estimators=300 ................\n"
     ]
    },
    {
     "name": "stdout",
     "output_type": "stream",
     "text": [
      "[CV]  max_depth=6, max_features=0.75, n_estimators=300, score=0.9113908197131944, total=  30.3s\n",
      "[CV] max_depth=6, max_features=0.75, n_estimators=300 ................\n",
      "[CV]  max_depth=6, max_features=0.75, n_estimators=300, score=0.9110150917402468, total=  30.5s\n",
      "[CV] max_depth=7, max_features=0.25, n_estimators=100 ................\n",
      "[CV]  max_depth=7, max_features=0.25, n_estimators=100, score=0.8948027551659361, total=   4.0s\n",
      "[CV] max_depth=7, max_features=0.25, n_estimators=100 ................\n",
      "[CV]  max_depth=7, max_features=0.25, n_estimators=100, score=0.8857786962239339, total=   3.9s\n",
      "[CV] max_depth=7, max_features=0.25, n_estimators=100 ................\n",
      "[CV]  max_depth=7, max_features=0.25, n_estimators=100, score=0.8874068507733734, total=   3.9s\n",
      "[CV] max_depth=7, max_features=0.25, n_estimators=200 ................\n",
      "[CV]  max_depth=7, max_features=0.25, n_estimators=200, score=0.8878522229179712, total=   7.9s\n",
      "[CV] max_depth=7, max_features=0.25, n_estimators=200 ................\n",
      "[CV]  max_depth=7, max_features=0.25, n_estimators=200, score=0.8818335525079842, total=   7.9s\n",
      "[CV] max_depth=7, max_features=0.25, n_estimators=200 ................\n",
      "[CV]  max_depth=7, max_features=0.25, n_estimators=200, score=0.8860291815392323, total=   7.8s\n",
      "[CV] max_depth=7, max_features=0.25, n_estimators=300 ................\n",
      "[CV]  max_depth=7, max_features=0.25, n_estimators=300, score=0.8930494677520351, total=  11.8s\n",
      "[CV] max_depth=7, max_features=0.25, n_estimators=300 ................\n",
      "[CV]  max_depth=7, max_features=0.25, n_estimators=300, score=0.888095685390444, total=  11.9s\n",
      "[CV] max_depth=7, max_features=0.25, n_estimators=300 ................\n",
      "[CV]  max_depth=7, max_features=0.25, n_estimators=300, score=0.885903938881583, total=  11.7s\n",
      "[CV] max_depth=7, max_features=0.5, n_estimators=100 .................\n",
      "[CV]  max_depth=7, max_features=0.5, n_estimators=100, score=0.909079524107702, total=   8.3s\n",
      "[CV] max_depth=7, max_features=0.5, n_estimators=100 .................\n",
      "[CV]  max_depth=7, max_features=0.5, n_estimators=100, score=0.9113908197131944, total=   8.1s\n",
      "[CV] max_depth=7, max_features=0.5, n_estimators=100 .................\n",
      "[CV]  max_depth=7, max_features=0.5, n_estimators=100, score=0.9107019850961238, total=   8.5s\n",
      "[CV] max_depth=7, max_features=0.5, n_estimators=200 .................\n",
      "[CV]  max_depth=7, max_features=0.5, n_estimators=200, score=0.9093926111458985, total=  16.2s\n",
      "[CV] max_depth=7, max_features=0.5, n_estimators=200 .................\n",
      "[CV]  max_depth=7, max_features=0.5, n_estimators=200, score=0.9115160623708435, total=  17.3s\n",
      "[CV] max_depth=7, max_features=0.5, n_estimators=200 .................\n",
      "[CV]  max_depth=7, max_features=0.5, n_estimators=200, score=0.9103888784520008, total=  17.4s\n",
      "[CV] max_depth=7, max_features=0.5, n_estimators=300 .................\n",
      "[CV]  max_depth=7, max_features=0.5, n_estimators=300, score=0.9101440200375704, total=  24.7s\n",
      "[CV] max_depth=7, max_features=0.5, n_estimators=300 .................\n",
      "[CV]  max_depth=7, max_features=0.5, n_estimators=300, score=0.9116413050284927, total=  27.3s\n",
      "[CV] max_depth=7, max_features=0.5, n_estimators=300 .................\n",
      "[CV]  max_depth=7, max_features=0.5, n_estimators=300, score=0.9110150917402468, total=  25.9s\n",
      "[CV] max_depth=7, max_features=0.75, n_estimators=100 ................\n",
      "[CV]  max_depth=7, max_features=0.75, n_estimators=100, score=0.9120225422667502, total=  11.8s\n",
      "[CV] max_depth=7, max_features=0.75, n_estimators=100 ................\n",
      "[CV]  max_depth=7, max_features=0.75, n_estimators=100, score=0.9141461581814766, total=  12.0s\n",
      "[CV] max_depth=7, max_features=0.75, n_estimators=100 ................\n",
      "[CV]  max_depth=7, max_features=0.75, n_estimators=100, score=0.9145845074832488, total=  11.6s\n",
      "[CV] max_depth=7, max_features=0.75, n_estimators=200 ................\n",
      "[CV]  max_depth=7, max_features=0.75, n_estimators=200, score=0.9120851596743895, total=  23.3s\n",
      "[CV] max_depth=7, max_features=0.75, n_estimators=200 ................\n",
      "[CV]  max_depth=7, max_features=0.75, n_estimators=200, score=0.9135825662220552, total=  23.8s\n",
      "[CV] max_depth=7, max_features=0.75, n_estimators=200 ................\n",
      "[CV]  max_depth=7, max_features=0.75, n_estimators=200, score=0.9144592648255996, total=  25.2s\n",
      "[CV] max_depth=7, max_features=0.75, n_estimators=300 ................\n",
      "[CV]  max_depth=7, max_features=0.75, n_estimators=300, score=0.9120225422667502, total=  36.9s\n",
      "[CV] max_depth=7, max_features=0.75, n_estimators=300 ................\n",
      "[CV]  max_depth=7, max_features=0.75, n_estimators=300, score=0.9135825662220552, total=  34.9s\n",
      "[CV] max_depth=7, max_features=0.75, n_estimators=300 ................\n",
      "[CV]  max_depth=7, max_features=0.75, n_estimators=300, score=0.9143340221679505, total=  34.5s\n",
      "[CV] max_depth=8, max_features=0.25, n_estimators=100 ................\n",
      "[CV]  max_depth=8, max_features=0.25, n_estimators=100, score=0.8959298685034439, total=   4.3s\n",
      "[CV] max_depth=8, max_features=0.25, n_estimators=100 ................\n",
      "[CV]  max_depth=8, max_features=0.25, n_estimators=100, score=0.8911015091740246, total=   4.3s\n",
      "[CV] max_depth=8, max_features=0.25, n_estimators=100 ................\n",
      "[CV]  max_depth=8, max_features=0.25, n_estimators=100, score=0.8905379172146033, total=   4.3s\n",
      "[CV] max_depth=8, max_features=0.25, n_estimators=200 ................\n",
      "[CV]  max_depth=8, max_features=0.25, n_estimators=200, score=0.8969943644333125, total=   8.6s\n",
      "[CV] max_depth=8, max_features=0.25, n_estimators=200 ................\n",
      "[CV]  max_depth=8, max_features=0.25, n_estimators=200, score=0.8951092742187989, total=   8.7s\n",
      "[CV] max_depth=8, max_features=0.25, n_estimators=200 ................\n",
      "[CV]  max_depth=8, max_features=0.25, n_estimators=200, score=0.8936689836558331, total=   8.8s\n",
      "[CV] max_depth=8, max_features=0.25, n_estimators=300 ................\n",
      "[CV]  max_depth=8, max_features=0.25, n_estimators=300, score=0.8960551033187226, total=  13.1s\n",
      "[CV] max_depth=8, max_features=0.25, n_estimators=300 ................\n",
      "[CV]  max_depth=8, max_features=0.25, n_estimators=300, score=0.8942325756152546, total=  13.0s\n",
      "[CV] max_depth=8, max_features=0.25, n_estimators=300 ................\n",
      "[CV]  max_depth=8, max_features=0.25, n_estimators=300, score=0.8951718955476236, total=  13.2s\n",
      "[CV] max_depth=8, max_features=0.5, n_estimators=100 .................\n",
      "[CV]  max_depth=8, max_features=0.5, n_estimators=100, score=0.9120225422667502, total=   9.1s\n",
      "[CV] max_depth=8, max_features=0.5, n_estimators=100 .................\n",
      "[CV]  max_depth=8, max_features=0.5, n_estimators=100, score=0.9136451875508799, total=   9.0s\n",
      "[CV] max_depth=8, max_features=0.5, n_estimators=100 .................\n",
      "[CV]  max_depth=8, max_features=0.5, n_estimators=100, score=0.9132694595779323, total=   9.7s\n",
      "[CV] max_depth=8, max_features=0.5, n_estimators=200 .................\n",
      "[CV]  max_depth=8, max_features=0.5, n_estimators=200, score=0.9120851596743895, total=  17.8s\n",
      "[CV] max_depth=8, max_features=0.5, n_estimators=200 .................\n",
      "[CV]  max_depth=8, max_features=0.5, n_estimators=200, score=0.914083536852652, total=  19.4s\n",
      "[CV] max_depth=8, max_features=0.5, n_estimators=200 .................\n",
      "[CV]  max_depth=8, max_features=0.5, n_estimators=200, score=0.9138330515373536, total=  18.5s\n",
      "[CV] max_depth=8, max_features=0.5, n_estimators=300 .................\n",
      "[CV]  max_depth=8, max_features=0.5, n_estimators=300, score=0.9116468378209143, total=  27.9s\n",
      "[CV] max_depth=8, max_features=0.5, n_estimators=300 .................\n",
      "[CV]  max_depth=8, max_features=0.5, n_estimators=300, score=0.9138330515373536, total=  29.2s\n",
      "[CV] max_depth=8, max_features=0.5, n_estimators=300 .................\n",
      "[CV]  max_depth=8, max_features=0.5, n_estimators=300, score=0.9125180036320371, total=  27.8s\n",
      "[CV] max_depth=8, max_features=0.75, n_estimators=100 ................\n",
      "[CV]  max_depth=8, max_features=0.75, n_estimators=100, score=0.9123982467125861, total=  13.7s\n",
      "[CV] max_depth=8, max_features=0.75, n_estimators=100 ................\n",
      "[CV]  max_depth=8, max_features=0.75, n_estimators=100, score=0.9139582941950029, total=  12.8s\n",
      "[CV] max_depth=8, max_features=0.75, n_estimators=100 ................\n",
      "[CV]  max_depth=8, max_features=0.75, n_estimators=100, score=0.9148976141273718, total=  12.8s\n",
      "[CV] max_depth=8, max_features=0.75, n_estimators=200 ................\n"
     ]
    },
    {
     "name": "stdout",
     "output_type": "stream",
     "text": [
      "[CV]  max_depth=8, max_features=0.75, n_estimators=200, score=0.9118346900438322, total=  25.5s\n",
      "[CV] max_depth=8, max_features=0.75, n_estimators=200 ................\n",
      "[CV]  max_depth=8, max_features=0.75, n_estimators=200, score=0.9143340221679505, total=  25.4s\n",
      "[CV] max_depth=8, max_features=0.75, n_estimators=200 ................\n",
      "[CV]  max_depth=8, max_features=0.75, n_estimators=200, score=0.9145845074832488, total=  26.7s\n",
      "[CV] max_depth=8, max_features=0.75, n_estimators=300 ................\n",
      "[CV]  max_depth=8, max_features=0.75, n_estimators=300, score=0.9119599248591108, total=  39.1s\n",
      "[CV] max_depth=8, max_features=0.75, n_estimators=300 ................\n",
      "[CV]  max_depth=8, max_features=0.75, n_estimators=300, score=0.914083536852652, total=  38.1s\n",
      "[CV] max_depth=8, max_features=0.75, n_estimators=300 ................\n",
      "[CV]  max_depth=8, max_features=0.75, n_estimators=300, score=0.9146471288120734, total=  42.1s\n",
      "[CV] max_depth=9, max_features=0.25, n_estimators=100 ................\n",
      "[CV]  max_depth=9, max_features=0.25, n_estimators=100, score=0.9018785222291797, total=   4.7s\n",
      "[CV] max_depth=9, max_features=0.25, n_estimators=100 ................\n",
      "[CV]  max_depth=9, max_features=0.25, n_estimators=100, score=0.9031248043083474, total=   4.7s\n",
      "[CV] max_depth=9, max_features=0.25, n_estimators=100 ................\n",
      "[CV]  max_depth=9, max_features=0.25, n_estimators=100, score=0.8994927672365207, total=   4.9s\n",
      "[CV] max_depth=9, max_features=0.25, n_estimators=200 ................\n",
      "[CV]  max_depth=9, max_features=0.25, n_estimators=200, score=0.9018159048215404, total=   9.7s\n",
      "[CV] max_depth=9, max_features=0.25, n_estimators=200 ................\n",
      "[CV]  max_depth=9, max_features=0.25, n_estimators=200, score=0.9007451938130127, total=   9.6s\n",
      "[CV] max_depth=9, max_features=0.25, n_estimators=200 ................\n",
      "[CV]  max_depth=9, max_features=0.25, n_estimators=200, score=0.9005573298265389, total=  10.0s\n",
      "[CV] max_depth=9, max_features=0.25, n_estimators=300 ................\n",
      "[CV]  max_depth=9, max_features=0.25, n_estimators=300, score=0.8995616781465248, total=  14.6s\n",
      "[CV] max_depth=9, max_features=0.25, n_estimators=300 ................\n",
      "[CV]  max_depth=9, max_features=0.25, n_estimators=300, score=0.9013087857724341, total=  14.5s\n",
      "[CV] max_depth=9, max_features=0.25, n_estimators=300 ................\n",
      "[CV]  max_depth=9, max_features=0.25, n_estimators=300, score=0.8999311165382929, total=  14.4s\n",
      "[CV] max_depth=9, max_features=0.5, n_estimators=100 .................\n",
      "[CV]  max_depth=9, max_features=0.5, n_estimators=100, score=0.9118346900438322, total=   9.9s\n",
      "[CV] max_depth=9, max_features=0.5, n_estimators=100 .................\n",
      "[CV]  max_depth=9, max_features=0.5, n_estimators=100, score=0.9139582941950029, total=  10.1s\n",
      "[CV] max_depth=9, max_features=0.5, n_estimators=100 .................\n",
      "[CV]  max_depth=9, max_features=0.5, n_estimators=100, score=0.9128937316049847, total=  10.1s\n",
      "[CV] max_depth=9, max_features=0.5, n_estimators=200 .................\n",
      "[CV]  max_depth=9, max_features=0.5, n_estimators=200, score=0.9122103944896681, total=  20.2s\n",
      "[CV] max_depth=9, max_features=0.5, n_estimators=200 .................\n",
      "[CV]  max_depth=9, max_features=0.5, n_estimators=200, score=0.9139582941950029, total=  20.1s\n",
      "[CV] max_depth=9, max_features=0.5, n_estimators=200 .................\n",
      "[CV]  max_depth=9, max_features=0.5, n_estimators=200, score=0.9147723714697226, total=  20.1s\n",
      "[CV] max_depth=9, max_features=0.5, n_estimators=300 .................\n",
      "[CV]  max_depth=9, max_features=0.5, n_estimators=300, score=0.9119599248591108, total=  30.2s\n",
      "[CV] max_depth=9, max_features=0.5, n_estimators=300 .................\n",
      "[CV]  max_depth=9, max_features=0.5, n_estimators=300, score=0.9139582941950029, total=  30.5s\n",
      "[CV] max_depth=9, max_features=0.5, n_estimators=300 .................\n",
      "[CV]  max_depth=9, max_features=0.5, n_estimators=300, score=0.9144592648255996, total=  30.3s\n",
      "[CV] max_depth=9, max_features=0.75, n_estimators=100 ................\n",
      "[CV]  max_depth=9, max_features=0.75, n_estimators=100, score=0.9122730118973075, total=  14.1s\n",
      "[CV] max_depth=9, max_features=0.75, n_estimators=100 ................\n",
      "[CV]  max_depth=9, max_features=0.75, n_estimators=100, score=0.9150854781138456, total=  16.1s\n",
      "[CV] max_depth=9, max_features=0.75, n_estimators=100 ................\n",
      "[CV]  max_depth=9, max_features=0.75, n_estimators=100, score=0.9155238274156178, total=  14.4s\n",
      "[CV] max_depth=9, max_features=0.75, n_estimators=200 ................\n",
      "[CV]  max_depth=9, max_features=0.75, n_estimators=200, score=0.9125234815278648, total=  26.6s\n",
      "[CV] max_depth=9, max_features=0.75, n_estimators=200 ................\n",
      "[CV]  max_depth=9, max_features=0.75, n_estimators=200, score=0.9157743127309161, total=  26.1s\n",
      "[CV] max_depth=9, max_features=0.75, n_estimators=200 ................\n",
      "[CV]  max_depth=9, max_features=0.75, n_estimators=200, score=0.9165257686768113, total=  26.3s\n",
      "[CV] max_depth=9, max_features=0.75, n_estimators=300 ................\n",
      "[CV]  max_depth=9, max_features=0.75, n_estimators=300, score=0.9120851596743895, total=  39.7s\n",
      "[CV] max_depth=9, max_features=0.75, n_estimators=300 ................\n",
      "[CV]  max_depth=9, max_features=0.75, n_estimators=300, score=0.9155864487444424, total=  39.7s\n",
      "[CV] max_depth=9, max_features=0.75, n_estimators=300 ................\n",
      "[CV]  max_depth=9, max_features=0.75, n_estimators=300, score=0.916275283361513, total=  39.7s\n",
      "[CV] max_depth=10, max_features=0.25, n_estimators=100 ...............\n",
      "[CV]  max_depth=10, max_features=0.25, n_estimators=100, score=0.906762680025047, total=   4.7s\n",
      "[CV] max_depth=10, max_features=0.25, n_estimators=100 ...............\n",
      "[CV]  max_depth=10, max_features=0.25, n_estimators=100, score=0.9069447053666478, total=   4.7s\n",
      "[CV] max_depth=10, max_features=0.25, n_estimators=100 ...............\n",
      "[CV]  max_depth=10, max_features=0.25, n_estimators=100, score=0.9060680067631035, total=   4.8s\n",
      "[CV] max_depth=10, max_features=0.25, n_estimators=200 ...............\n",
      "[CV]  max_depth=10, max_features=0.25, n_estimators=200, score=0.9054477144646211, total=   9.6s\n",
      "[CV] max_depth=10, max_features=0.25, n_estimators=200 ...............\n",
      "[CV]  max_depth=10, max_features=0.25, n_estimators=200, score=0.9046277162001378, total=   9.8s\n",
      "[CV] max_depth=10, max_features=0.25, n_estimators=200 ...............\n",
      "[CV]  max_depth=10, max_features=0.25, n_estimators=200, score=0.9043146095560147, total=   9.6s\n",
      "[CV] max_depth=10, max_features=0.25, n_estimators=300 ...............\n",
      "[CV]  max_depth=10, max_features=0.25, n_estimators=300, score=0.9050720100187852, total=  14.4s\n",
      "[CV] max_depth=10, max_features=0.25, n_estimators=300 ...............\n",
      "[CV]  max_depth=10, max_features=0.25, n_estimators=300, score=0.9048155801866116, total=  14.5s\n",
      "[CV] max_depth=10, max_features=0.25, n_estimators=300 ...............\n",
      "[CV]  max_depth=10, max_features=0.25, n_estimators=300, score=0.9058801427766298, total=  14.5s\n",
      "[CV] max_depth=10, max_features=0.5, n_estimators=100 ................\n",
      "[CV]  max_depth=10, max_features=0.5, n_estimators=100, score=0.9124608641202254, total=  10.3s\n",
      "[CV] max_depth=10, max_features=0.5, n_estimators=100 ................\n",
      "[CV]  max_depth=10, max_features=0.5, n_estimators=100, score=0.9144592648255996, total=  10.1s\n",
      "[CV] max_depth=10, max_features=0.5, n_estimators=100 ................\n",
      "[CV]  max_depth=10, max_features=0.5, n_estimators=100, score=0.9145845074832488, total=  10.1s\n",
      "[CV] max_depth=10, max_features=0.5, n_estimators=200 ................\n",
      "[CV]  max_depth=10, max_features=0.5, n_estimators=200, score=0.9120225422667502, total=  20.4s\n",
      "[CV] max_depth=10, max_features=0.5, n_estimators=200 ................\n",
      "[CV]  max_depth=10, max_features=0.5, n_estimators=200, score=0.9147723714697226, total=  20.2s\n",
      "[CV] max_depth=10, max_features=0.5, n_estimators=200 ................\n",
      "[CV]  max_depth=10, max_features=0.5, n_estimators=200, score=0.9146471288120734, total=  20.4s\n",
      "[CV] max_depth=10, max_features=0.5, n_estimators=300 ................\n",
      "[CV]  max_depth=10, max_features=0.5, n_estimators=300, score=0.9123982467125861, total=  30.8s\n",
      "[CV] max_depth=10, max_features=0.5, n_estimators=300 ................\n",
      "[CV]  max_depth=10, max_features=0.5, n_estimators=300, score=0.9146471288120734, total=  30.2s\n",
      "[CV] max_depth=10, max_features=0.5, n_estimators=300 ................\n"
     ]
    },
    {
     "name": "stdout",
     "output_type": "stream",
     "text": [
      "[CV]  max_depth=10, max_features=0.5, n_estimators=300, score=0.9146471288120734, total=  30.5s\n",
      "[CV] max_depth=10, max_features=0.75, n_estimators=100 ...............\n",
      "[CV]  max_depth=10, max_features=0.75, n_estimators=100, score=0.9127113337507827, total=  14.5s\n",
      "[CV] max_depth=10, max_features=0.75, n_estimators=100 ...............\n",
      "[CV]  max_depth=10, max_features=0.75, n_estimators=100, score=0.9149602354561964, total=  14.2s\n",
      "[CV] max_depth=10, max_features=0.75, n_estimators=100 ...............\n",
      "[CV]  max_depth=10, max_features=0.75, n_estimators=100, score=0.91596217671739, total=  14.3s\n",
      "[CV] max_depth=10, max_features=0.75, n_estimators=200 ...............\n",
      "[CV]  max_depth=10, max_features=0.75, n_estimators=200, score=0.9120225422667502, total=  28.8s\n",
      "[CV] max_depth=10, max_features=0.75, n_estimators=200 ...............\n",
      "[CV]  max_depth=10, max_features=0.75, n_estimators=200, score=0.9160874193750391, total=  28.4s\n",
      "[CV] max_depth=10, max_features=0.75, n_estimators=200 ...............\n",
      "[CV]  max_depth=10, max_features=0.75, n_estimators=200, score=0.9157743127309161, total=  28.6s\n",
      "[CV] max_depth=10, max_features=0.75, n_estimators=300 ...............\n",
      "[CV]  max_depth=10, max_features=0.75, n_estimators=300, score=0.9118346900438322, total=  43.1s\n",
      "[CV] max_depth=10, max_features=0.75, n_estimators=300 ...............\n",
      "[CV]  max_depth=10, max_features=0.75, n_estimators=300, score=0.9156490700732669, total=  42.4s\n",
      "[CV] max_depth=10, max_features=0.75, n_estimators=300 ...............\n",
      "[CV]  max_depth=10, max_features=0.75, n_estimators=300, score=0.9163379046903375, total=  42.9s\n"
     ]
    },
    {
     "name": "stderr",
     "output_type": "stream",
     "text": [
      "[Parallel(n_jobs=1)]: Done 162 out of 162 | elapsed: 46.2min finished\n"
     ]
    },
    {
     "data": {
      "text/plain": [
       "GridSearchCV(cv='warn', error_score='raise-deprecating',\n",
       "       estimator=RandomForestClassifier(bootstrap=True, class_weight=None, criterion='gini',\n",
       "            max_depth=None, max_features='auto', max_leaf_nodes=None,\n",
       "            min_impurity_decrease=0.0, min_impurity_split=None,\n",
       "            min_samples_leaf=1, min_samples_split=2,\n",
       "            min_weight_fraction_leaf=0.0, n_estimators='warn', n_jobs=None,\n",
       "            oob_score=False, random_state=None, verbose=0,\n",
       "            warm_start=False),\n",
       "       fit_params=None, iid='warn', n_jobs=None,\n",
       "       param_grid={'n_estimators': [100, 200, 300], 'max_depth': [5, 6, 7, 8, 9, 10], 'max_features': [0.25, 0.5, 0.75]},\n",
       "       pre_dispatch='2*n_jobs', refit=True, return_train_score='warn',\n",
       "       scoring=None, verbose=3)"
      ]
     },
     "execution_count": 19,
     "metadata": {},
     "output_type": "execute_result"
    }
   ],
   "source": [
    "# Searching for the bests estimators\n",
    "grid.fit(X_std_train,y_train)"
   ]
  },
  {
   "cell_type": "code",
   "execution_count": 65,
   "metadata": {},
   "outputs": [
    {
     "name": "stdout",
     "output_type": "stream",
     "text": [
      "RandomForestClassifier(bootstrap=True, class_weight=None, criterion='gini',\n",
      "            max_depth=9, max_features=0.75, max_leaf_nodes=None,\n",
      "            min_impurity_decrease=0.0, min_impurity_split=None,\n",
      "            min_samples_leaf=1, min_samples_split=2,\n",
      "            min_weight_fraction_leaf=0.0, n_estimators=200, n_jobs=None,\n",
      "            oob_score=False, random_state=None, verbose=0,\n",
      "            warm_start=False)\n",
      "score =  0.9149411371795942\n"
     ]
    }
   ],
   "source": [
    "\"\"\"RandomForestClassifier(bootstrap=True, class_weight=None, criterion='gini',\n",
    "            max_depth=9, max_features=0.75, max_leaf_nodes=None,\n",
    "            min_impurity_decrease=0.0, min_impurity_split=None,\n",
    "            min_samples_leaf=1, min_samples_split=2,\n",
    "            min_weight_fraction_leaf=0.0, n_estimators=200, n_jobs=None,\n",
    "            oob_score=False, random_state=None, verbose=0,\n",
    "            warm_start=False)\"\"\"\n",
    "print(grid.best_estimator_)\n",
    "print('score = ', grid.best_score_)"
   ]
  },
  {
   "cell_type": "code",
   "execution_count": 33,
   "metadata": {},
   "outputs": [],
   "source": [
    "pred = grid.predict(X_std_test)"
   ]
  },
  {
   "cell_type": "code",
   "execution_count": 34,
   "metadata": {},
   "outputs": [
    {
     "data": {
      "text/plain": [
       "<Figure size 1152x576 with 0 Axes>"
      ]
     },
     "metadata": {},
     "output_type": "display_data"
    },
    {
     "data": {
      "image/png": "[encoded data removed]",
      "text/plain": [
       "<Figure size 288x288 with 1 Axes>"
      ]
     },
     "metadata": {
      "needs_background": "light"
     },
     "output_type": "display_data"
    }
   ],
   "source": [
    "conf_mat = confusion_matrix(y_test, pred)\n",
    "\n",
    "plt.figure(figsize=(16, 8))\n",
    "plt.matshow(conf_mat, cmap=plt.cm.Reds, alpha=0.2)\n",
    "for i in range(2):\n",
    "  for j in range(2):\n",
    "    plt.text(x=j, y=i, s=conf_mat[i, j], ha=\"center\", va=\"center\")\n",
    "plt.title(\"Confusion matrix\", y=1.1, fontdict={\"fontsize\": 20})\n",
    "plt.xlabel(\"Predicted\", fontdict={\"fontsize\": 14})\n",
    "plt.ylabel(\"Actual\", fontdict={\"fontsize\": 14});"
   ]
  },
  {
   "cell_type": "markdown",
   "metadata": {},
   "source": [
    "## Model evaluation"
   ]
  },
  {
   "cell_type": "code",
   "execution_count": 66,
   "metadata": {},
   "outputs": [
    {
     "data": {
      "text/plain": [
       "RandomForestClassifier(bootstrap=True, class_weight=None, criterion='gini',\n",
       "            max_depth=9, max_features=0.75, max_leaf_nodes=None,\n",
       "            min_impurity_decrease=0.0, min_impurity_split=None,\n",
       "            min_samples_leaf=1, min_samples_split=2,\n",
       "            min_weight_fraction_leaf=0.0, n_estimators=200, n_jobs=None,\n",
       "            oob_score=False, random_state=None, verbose=0,\n",
       "            warm_start=False)"
      ]
     },
     "execution_count": 66,
     "metadata": {},
     "output_type": "execute_result"
    }
   ],
   "source": [
    "best_rfc = RandomForestClassifier(bootstrap=True, class_weight=None, criterion='gini',\n",
    "            max_depth=9, max_features=0.75, max_leaf_nodes=None,\n",
    "            min_impurity_decrease=0.0, min_impurity_split=None,\n",
    "            min_samples_leaf=1, min_samples_split=2,\n",
    "            min_weight_fraction_leaf=0.0, n_estimators=200, n_jobs=None,\n",
    "            oob_score=False, random_state=None, verbose=0,\n",
    "            warm_start=False)\n",
    "\n",
    "best_rfc.fit(X_std_train,y_train)"
   ]
  },
  {
   "cell_type": "code",
   "execution_count": 67,
   "metadata": {},
   "outputs": [
    {
     "data": {
      "text/plain": [
       "<Figure size 1152x576 with 0 Axes>"
      ]
     },
     "metadata": {},
     "output_type": "display_data"
    },
    {
     "data": {
      "image/png": "[encoded data removed]",
      "text/plain": [
       "<Figure size 288x288 with 1 Axes>"
      ]
     },
     "metadata": {
      "needs_background": "light"
     },
     "output_type": "display_data"
    }
   ],
   "source": [
    "best_rfc_pred = best_rfc.predict(X_std_test)\n",
    "conf_mat = confusion_matrix(y_test, best_rfc_pred)\n",
    "\n",
    "plt.figure(figsize=(16, 8))\n",
    "plt.matshow(conf_mat, cmap=plt.cm.Reds, alpha=0.2)\n",
    "for i in range(2):\n",
    "  for j in range(2):\n",
    "    plt.text(x=j, y=i, s=conf_mat[i, j], ha=\"center\", va=\"center\")\n",
    "plt.title(\"Confusion matrix\", y=1.1, fontdict={\"fontsize\": 20})\n",
    "plt.xlabel(\"Predicted\", fontdict={\"fontsize\": 14})\n",
    "plt.ylabel(\"Actual\", fontdict={\"fontsize\": 14});"
   ]
  },
  {
   "cell_type": "code",
   "execution_count": 86,
   "metadata": {},
   "outputs": [
    {
     "name": "stdout",
     "output_type": "stream",
     "text": [
      "              precision    recall  f1-score   support\n",
      "\n",
      "       False       0.94      0.97      0.95     10091\n",
      "        True       0.79      0.65      0.71      1887\n",
      "\n",
      "   micro avg       0.92      0.92      0.92     11978\n",
      "   macro avg       0.87      0.81      0.83     11978\n",
      "weighted avg       0.91      0.92      0.91     11978\n",
      "\n"
     ]
    }
   ],
   "source": [
    "from sklearn.metrics import classification_report\n",
    "print(classification_report(y_test, best_rfc_pred))"
   ]
  },
  {
   "cell_type": "markdown",
   "metadata": {},
   "source": [
    "# Predicting the test dataset"
   ]
  },
  {
   "cell_type": "code",
   "execution_count": 46,
   "metadata": {},
   "outputs": [],
   "source": [
    "test = pd.read_csv('puzzle_test_dataset.csv')"
   ]
  },
  {
   "cell_type": "code",
   "execution_count": 47,
   "metadata": {},
   "outputs": [],
   "source": [
    "test.drop(columns=['facebook_profile','ok_since','credit_limit','sign','n_issues','zip','channel'], inplace=True, axis=1)"
   ]
  },
  {
   "cell_type": "code",
   "execution_count": 48,
   "metadata": {},
   "outputs": [],
   "source": [
    "test.dropna(subset=['last_payment','end_last_loan'], inplace=True)"
   ]
  },
  {
   "cell_type": "code",
   "execution_count": 49,
   "metadata": {},
   "outputs": [],
   "source": [
    "cat_code_str(test,['score_1','score_2','gender','state','job_name','real_state','reason'])"
   ]
  },
  {
   "cell_type": "code",
   "execution_count": 50,
   "metadata": {},
   "outputs": [],
   "source": [
    "test['n_bankruptcies'].fillna(value=train.n_bankruptcies.mean(), inplace=True)\n",
    "test['n_defaulted_loans'].fillna(value=train.n_defaulted_loans.mean(), inplace=True)"
   ]
  },
  {
   "cell_type": "code",
   "execution_count": 51,
   "metadata": {},
   "outputs": [],
   "source": [
    "treat_datetime(test,['last_payment','end_last_loan'])"
   ]
  },
  {
   "cell_type": "code",
   "execution_count": 52,
   "metadata": {},
   "outputs": [],
   "source": [
    "test.drop(columns=['score_2_cat','score_1_cat','gender_cat','real_state_cat',\n",
    "                     'n_bankruptcies','n_defaulted_loans'], axis=1, inplace=True)"
   ]
  },
  {
   "cell_type": "code",
   "execution_count": 54,
   "metadata": {},
   "outputs": [],
   "source": [
    "std_test = std.transform(test.drop('ids', axis=1))"
   ]
  },
  {
   "cell_type": "code",
   "execution_count": 55,
   "metadata": {},
   "outputs": [],
   "source": [
    "test_pred = best_rfc.predict(std_test)"
   ]
  },
  {
   "cell_type": "code",
   "execution_count": 57,
   "metadata": {},
   "outputs": [],
   "source": [
    "submission = {'ids': test['ids'],\n",
    "              'predictions': test_pred}\n",
    "submission = pd.DataFrame(submission)"
   ]
  },
  {
   "cell_type": "code",
   "execution_count": 58,
   "metadata": {},
   "outputs": [],
   "source": [
    "default_missing = pd.read_csv('puzzle_test_dataset.csv')\n",
    "\n",
    "na_end_last_loan = {'ids': default_missing[default_missing['end_last_loan'].isna()]['ids'],\n",
    "                    'predictions': False}\n",
    "default_missing.dropna(subset=['end_last_loan'], inplace=True)\n",
    "na_last_payment = {'ids': default_missing[default_missing['last_payment'].isna()]['ids'],\n",
    "                   'predictions': True}\n",
    "\n",
    "na_end_last_loan = pd.DataFrame(na_end_last_loan)\n",
    "na_last_payment = pd.DataFrame(na_last_payment)"
   ]
  },
  {
   "cell_type": "code",
   "execution_count": 59,
   "metadata": {},
   "outputs": [],
   "source": [
    "submission = pd.concat([submission,na_end_last_loan,na_last_payment])"
   ]
  },
  {
   "cell_type": "code",
   "execution_count": 61,
   "metadata": {},
   "outputs": [],
   "source": [
    "submission.to_csv('predictions.csv', index=False)"
   ]
  }
 ],
 "metadata": {
  "kernelspec": {
   "display_name": "Python 3",
   "language": "python",
   "name": "python3"
  },
  "language_info": {
   "codemirror_mode": {
    "name": "ipython",
    "version": 3
   },
   "file_extension": ".py",
   "mimetype": "text/x-python",
   "name": "python",
   "nbconvert_exporter": "python",
   "pygments_lexer": "ipython3",
   "version": "3.7.0"
  }
 },
 "nbformat": 4,
 "nbformat_minor": 2
}
